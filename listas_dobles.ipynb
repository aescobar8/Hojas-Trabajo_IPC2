{
  "nbformat": 4,
  "nbformat_minor": 0,
  "metadata": {
    "colab": {
      "provenance": []
    },
    "kernelspec": {
      "name": "python3",
      "display_name": "Python 3"
    },
    "language_info": {
      "name": "python"
    }
  },
  "cells": [
    {
      "cell_type": "markdown",
      "source": [
        "**LISTAS ENLAZADAS**\n",
        "**Definición de la clase Receta**"
      ],
      "metadata": {
        "id": "2l89GyGi2eH3"
      }
    },
    {
      "cell_type": "code",
      "source": [
        "class receta:\n",
        "    #construir constructor\n",
        "    def __init__(self,  paciente, fecha_nac, doctor, colegiado, fecha_cita, hora_cita, tipo_consulta, tratamiento):\n",
        "        self.paciente = paciente\n",
        "        self.fecha_nac = fecha_nac\n",
        "        self.doctor = doctor\n",
        "        self.colegiado = colegiado\n",
        "        self.fecha_cita = fecha_cita\n",
        "        self.hora_cita = hora_cita\n",
        "        self.tipo_consulta = tipo_consulta\n",
        "        self.tratamiento = tratamiento"
      ],
      "metadata": {
        "id": "bm7SLiHz-JPl"
      },
      "execution_count": 2,
      "outputs": []
    },
    {
      "cell_type": "markdown",
      "source": [
        "**Definición de la clase nodo**"
      ],
      "metadata": {
        "id": "pDas300N-L94"
      }
    },
    {
      "cell_type": "code",
      "source": [
        "class nodo:\n",
        "  def __init__(self, receta=None, siguiente = None, anterior = None):\n",
        "    self.receta = receta\n",
        "    self.siguiente = siguiente\n",
        "    self.anterior = anterior"
      ],
      "metadata": {
        "id": "TN-qmU2z-R4J"
      },
      "execution_count": 3,
      "outputs": []
    },
    {
      "cell_type": "markdown",
      "source": [
        "**Definición de la clase lista doble**"
      ],
      "metadata": {
        "id": "fr2CjozB-WDX"
      }
    },
    {
      "cell_type": "code",
      "source": [
        "class lista_doble:\n",
        "  def __init__(self):\n",
        "    self.primero= None\n",
        "\n",
        "  def insertar(self, receta):\n",
        "    if self.primero is None:\n",
        "      self.primero = nodo(receta = receta)\n",
        "    else:\n",
        "      actual = nodo(receta = receta, siguiente = self.primero)\n",
        "      self.primero.anterior = actual\n",
        "      self.primero = actual\n",
        "\n",
        "  def recorrer(self):\n",
        "    if self.primero is None:\n",
        "      return\n",
        "    actual = self.primero\n",
        "    print(\"Paciente: \", actual.receta.paciente, \n",
        "          \"| Fecha de nacimiento: \", actual.receta.fecha_nac, \n",
        "          \"| Medico: \", actual.receta.doctor, \n",
        "          \"| Colegiado: \", actual.receta.colegiado, \n",
        "          \"| Fecha de la cita: \", actual.receta.fecha_cita, \n",
        "          \"| Hora de la cita: \", actual.receta.hora_cita, \n",
        "          \"| Tipo de consulta: \", actual.receta.tipo_consulta, \n",
        "          \"| Tratamiento: \", actual.receta.tratamiento, \"|\")\n",
        "    while actual.siguiente:\n",
        "      actual = actual.siguiente\n",
        "      print(\"Paciente: \", actual.receta.paciente, \n",
        "          \"| Fecha de nacimiento: \", actual.receta.fecha_nac, \n",
        "          \"| Medico: \", actual.receta.doctor, \n",
        "          \"| Colegiado: \", actual.receta.colegiado, \n",
        "          \"| Fecha de la cita: \", actual.receta.fecha_cita, \n",
        "          \"| Hora de la cita: \", actual.receta.hora_cita, \n",
        "          \"| Tipo de consulta: \", actual.receta.tipo_consulta, \n",
        "          \"| Tratamiento: \", actual.receta.tratamiento, \"|\")\n",
        "\n",
        "  def eliminar(self, colegiado, fecha_cita, hora_cita):\n",
        "    actual = self.primero\n",
        "    while actual:\n",
        "      if actual.receta.colegiado == colegiado and actual.receta.fecha_cita == fecha_cita and actual.receta.hora_cita == hora_cita:\n",
        "        if actual.anterior:\n",
        "          if actual.siguiente:\n",
        "            actual.anterior.siguiente = actual.siguiente\n",
        "            actual.siguiente.anterior = actual.anterior\n",
        "          else:\n",
        "            actual.anterior.siguiente = None\n",
        "            actual.anterior = None\n",
        "        else:\n",
        "          if actual.siguiente:\n",
        "            self.primero = actual.siguiente \n",
        "            actual.siguiente.anterior = None\n",
        "          else:\n",
        "            self.primero = None\n",
        "        return True\n",
        "      else:\n",
        "        actual = actual.siguiente\n",
        "    return False\n",
        "\n",
        "  def modificar(self, paciente, nueva_fecha_cita, nueva_hora_cita):\n",
        "    actual = self.primero \n",
        "    while actual is not None: \n",
        "      if actual.receta.paciente == paciente: \n",
        "        actual.receta.fecha_cita = nueva_fecha_cita\n",
        "        actual.receta.hora_cita = nueva_hora_cita\n",
        "        break\n",
        "      actual = actual.siguiente\n",
        "      # SE ENCARGARÁ DE MODIFICAR UN DATO ESPECIFICO MEDIANTE EL NOMBRE EN UN NODO "
      ],
      "metadata": {
        "id": "iCz3WMVu-bAz"
      },
      "execution_count": 4,
      "outputs": []
    },
    {
      "cell_type": "markdown",
      "source": [
        "**Creación de objetos receta**"
      ],
      "metadata": {
        "id": "aPj3qrh4-fPM"
      }
    },
    {
      "cell_type": "code",
      "source": [
        "r1 = receta(\"Gerson Lopez\", \"03-10-1990\", \"melvin ortiz\", 20156, \n",
        "\"16-01-2023\", \"11:30\", \"medicina general\", \"2 pildoras de acetaminofen cada 6 horas\")\n",
        "r2 = receta(\"karen\", \"03-10-1990\", \"melvin ortiz\", 8567, \n",
        "\"19-01-2023\", \"09:30\", \"medicina general\", \"2 pildoras de acetaminofen cada 6 horas\")\n",
        "r3 = receta(\"Luis\", \"03-10-1990\", \"melvin ortiz\", 20157, \n",
        "\"20-01-2023\", \"10:30\", \"medicina general\", \"2 pildoras de acetaminofen cada 6 horas\")"
      ],
      "metadata": {
        "id": "gDkBD-RB-i_z"
      },
      "execution_count": 5,
      "outputs": []
    },
    {
      "cell_type": "markdown",
      "source": [
        "**Inserción**"
      ],
      "metadata": {
        "id": "gmcVLbS5-lg3"
      }
    },
    {
      "cell_type": "code",
      "source": [
        "lista_d = lista_doble()\n",
        "lista_d.insertar(r1)\n",
        "lista_d.insertar(r2)\n",
        "lista_d.insertar(r3)"
      ],
      "metadata": {
        "id": "ia45O_SO-pZf"
      },
      "execution_count": 6,
      "outputs": []
    },
    {
      "cell_type": "markdown",
      "source": [
        "**Recorrer la Lista**"
      ],
      "metadata": {
        "id": "FWy81Wdz-rtX"
      }
    },
    {
      "cell_type": "code",
      "source": [
        "lista_d.recorrer()"
      ],
      "metadata": {
        "colab": {
          "base_uri": "https://localhost:8080/"
        },
        "id": "alEuQC6V-uDc",
        "outputId": "3bfc8e78-94ee-4453-fcbe-0dcf8e02daaf"
      },
      "execution_count": 7,
      "outputs": [
        {
          "output_type": "stream",
          "name": "stdout",
          "text": [
            "Paciente:  Luis | Fecha de nacimiento:  03-10-1990 | Medico:  melvin ortiz | Colegiado:  20157 | Fecha de la cita:  20-01-2023 | Hora de la cita:  10:30 | Tipo de consulta:  medicina general | Tratamiento:  2 pildoras de acetaminofen cada 6 horas |\n",
            "Paciente:  karen | Fecha de nacimiento:  03-10-1990 | Medico:  melvin ortiz | Colegiado:  8567 | Fecha de la cita:  19-01-2023 | Hora de la cita:  09:30 | Tipo de consulta:  medicina general | Tratamiento:  2 pildoras de acetaminofen cada 6 horas |\n",
            "Paciente:  Gerson Lopez | Fecha de nacimiento:  03-10-1990 | Medico:  melvin ortiz | Colegiado:  20156 | Fecha de la cita:  16-01-2023 | Hora de la cita:  11:30 | Tipo de consulta:  medicina general | Tratamiento:  2 pildoras de acetaminofen cada 6 horas |\n"
          ]
        }
      ]
    },
    {
      "cell_type": "markdown",
      "source": [
        "**Eliminación de un nodo del medio de la lista**"
      ],
      "metadata": {
        "id": "UiDiPDjx-wGH"
      }
    },
    {
      "cell_type": "code",
      "source": [
        "\n",
        "lista_d.eliminar(8567, \"19-01-2023\", \"09:30\")\n",
        "lista_d.recorrer()"
      ],
      "metadata": {
        "colab": {
          "base_uri": "https://localhost:8080/"
        },
        "id": "xKDPCLHB-z_N",
        "outputId": "74864ca7-9119-4406-a5b9-8d1b203549b7"
      },
      "execution_count": 8,
      "outputs": [
        {
          "output_type": "stream",
          "name": "stdout",
          "text": [
            "Paciente:  Luis | Fecha de nacimiento:  03-10-1990 | Medico:  melvin ortiz | Colegiado:  20157 | Fecha de la cita:  20-01-2023 | Hora de la cita:  10:30 | Tipo de consulta:  medicina general | Tratamiento:  2 pildoras de acetaminofen cada 6 horas |\n",
            "Paciente:  Gerson Lopez | Fecha de nacimiento:  03-10-1990 | Medico:  melvin ortiz | Colegiado:  20156 | Fecha de la cita:  16-01-2023 | Hora de la cita:  11:30 | Tipo de consulta:  medicina general | Tratamiento:  2 pildoras de acetaminofen cada 6 horas |\n"
          ]
        }
      ]
    },
    {
      "cell_type": "markdown",
      "source": [
        "**Eliminar el primer nodo de la lista**"
      ],
      "metadata": {
        "id": "cFakvV2r-2FJ"
      }
    },
    {
      "cell_type": "code",
      "source": [
        "\n",
        "lista_d.eliminar(20157, \"20-01-2023\", \"10:30\")\n",
        "lista_d.recorrer()"
      ],
      "metadata": {
        "colab": {
          "base_uri": "https://localhost:8080/"
        },
        "id": "y7sir0e3-5Y4",
        "outputId": "612b1724-f7eb-4fb7-c946-4c9cef29f197"
      },
      "execution_count": 9,
      "outputs": [
        {
          "output_type": "stream",
          "name": "stdout",
          "text": [
            "Paciente:  Gerson Lopez | Fecha de nacimiento:  03-10-1990 | Medico:  melvin ortiz | Colegiado:  20156 | Fecha de la cita:  16-01-2023 | Hora de la cita:  11:30 | Tipo de consulta:  medicina general | Tratamiento:  2 pildoras de acetaminofen cada 6 horas |\n"
          ]
        }
      ]
    },
    {
      "cell_type": "markdown",
      "source": [
        "**Eliminar el último nodo de la lista**"
      ],
      "metadata": {
        "id": "wsOKt8jT-7KL"
      }
    },
    {
      "cell_type": "code",
      "source": [
        "lista_d.eliminar(20156, \"16-01-2023\", \"11:30\")\n",
        "lista_d.recorrer()"
      ],
      "metadata": {
        "id": "bUAM44nF--xl"
      },
      "execution_count": 10,
      "outputs": []
    },
    {
      "cell_type": "markdown",
      "source": [
        "**Eliminación nodo a nodo de la lista**"
      ],
      "metadata": {
        "id": "tWJdQd_N_AWn"
      }
    },
    {
      "cell_type": "code",
      "source": [
        "lista_d.eliminar(20157, \"20-01-2023\", \"10:30\")\n",
        "lista_d.recorrer()\n",
        "\n",
        "lista_d.eliminar(8567, \"19-01-2023\", \"09:30\")\n",
        "lista_d.recorrer()\n",
        "\n",
        "lista_d.eliminar(20156, \"16-01-2023\", \"11:30\")\n",
        "lista_d.recorrer()"
      ],
      "metadata": {
        "id": "e11Mb7ST_DHw"
      },
      "execution_count": 11,
      "outputs": []
    },
    {
      "cell_type": "markdown",
      "source": [
        "**Modificar un nodo de la lista**"
      ],
      "metadata": {
        "id": "3A2nK7LF_HFP"
      }
    },
    {
      "cell_type": "code",
      "source": [
        "lista_d.modificar(20156, \"16-01-2023\", \"11:30\")\n",
        "lista_d.recorrer()"
      ],
      "metadata": {
        "id": "-hPSWGYJ_LK3"
      },
      "execution_count": 12,
      "outputs": []
    }
  ]
}